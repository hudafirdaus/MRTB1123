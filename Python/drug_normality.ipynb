{
 "cells": [
  {
   "cell_type": "code",
   "execution_count": 2,
   "id": "ecf61a33",
   "metadata": {},
   "outputs": [
    {
     "data": {
      "text/plain": [
       "'E:\\\\Python'"
      ]
     },
     "execution_count": 2,
     "metadata": {},
     "output_type": "execute_result"
    }
   ],
   "source": [
    "pwd"
   ]
  },
  {
   "cell_type": "code",
   "execution_count": 3,
   "id": "b91b3db9",
   "metadata": {},
   "outputs": [],
   "source": [
    "import pandas as pd\n",
    "import numpy as np\n",
    "import scipy.stats as st \n",
    "from statsmodels.graphics.gofplots import qqplot\n",
    "from matplotlib import pyplot"
   ]
  },
  {
   "cell_type": "code",
   "execution_count": 4,
   "id": "d8af3d15",
   "metadata": {},
   "outputs": [],
   "source": [
    "DrugExpenses=pd.read_excel('E:\\Python\\Data\\DrugExpenses.xlsx','Data')[['Out-Of-Pocket Drug Expenses']]"
   ]
  },
  {
   "cell_type": "code",
   "execution_count": 5,
   "id": "efd6200d",
   "metadata": {},
   "outputs": [
    {
     "data": {
      "text/html": [
       "<div>\n",
       "<style scoped>\n",
       "    .dataframe tbody tr th:only-of-type {\n",
       "        vertical-align: middle;\n",
       "    }\n",
       "\n",
       "    .dataframe tbody tr th {\n",
       "        vertical-align: top;\n",
       "    }\n",
       "\n",
       "    .dataframe thead th {\n",
       "        text-align: right;\n",
       "    }\n",
       "</style>\n",
       "<table border=\"1\" class=\"dataframe\">\n",
       "  <thead>\n",
       "    <tr style=\"text-align: right;\">\n",
       "      <th></th>\n",
       "      <th>Out-Of-Pocket Drug Expenses</th>\n",
       "    </tr>\n",
       "  </thead>\n",
       "  <tbody>\n",
       "    <tr>\n",
       "      <th>0</th>\n",
       "      <td>200.31</td>\n",
       "    </tr>\n",
       "    <tr>\n",
       "      <th>1</th>\n",
       "      <td>143.38</td>\n",
       "    </tr>\n",
       "    <tr>\n",
       "      <th>2</th>\n",
       "      <td>164.43</td>\n",
       "    </tr>\n",
       "    <tr>\n",
       "      <th>3</th>\n",
       "      <td>179.59</td>\n",
       "    </tr>\n",
       "    <tr>\n",
       "      <th>4</th>\n",
       "      <td>199.88</td>\n",
       "    </tr>\n",
       "  </tbody>\n",
       "</table>\n",
       "</div>"
      ],
      "text/plain": [
       "   Out-Of-Pocket Drug Expenses\n",
       "0                       200.31\n",
       "1                       143.38\n",
       "2                       164.43\n",
       "3                       179.59\n",
       "4                       199.88"
      ]
     },
     "execution_count": 5,
     "metadata": {},
     "output_type": "execute_result"
    }
   ],
   "source": [
    "DrugExpenses.head()"
   ]
  },
  {
   "cell_type": "code",
   "execution_count": 6,
   "id": "1074eaf5",
   "metadata": {},
   "outputs": [
    {
     "data": {
      "text/html": [
       "<div>\n",
       "<style scoped>\n",
       "    .dataframe tbody tr th:only-of-type {\n",
       "        vertical-align: middle;\n",
       "    }\n",
       "\n",
       "    .dataframe tbody tr th {\n",
       "        vertical-align: top;\n",
       "    }\n",
       "\n",
       "    .dataframe thead th {\n",
       "        text-align: right;\n",
       "    }\n",
       "</style>\n",
       "<table border=\"1\" class=\"dataframe\">\n",
       "  <thead>\n",
       "    <tr style=\"text-align: right;\">\n",
       "      <th></th>\n",
       "      <th>Out-Of-Pocket Drug Expenses</th>\n",
       "    </tr>\n",
       "  </thead>\n",
       "  <tbody>\n",
       "    <tr>\n",
       "      <th>0</th>\n",
       "      <td>200.31</td>\n",
       "    </tr>\n",
       "    <tr>\n",
       "      <th>1</th>\n",
       "      <td>143.38</td>\n",
       "    </tr>\n",
       "    <tr>\n",
       "      <th>2</th>\n",
       "      <td>164.43</td>\n",
       "    </tr>\n",
       "    <tr>\n",
       "      <th>3</th>\n",
       "      <td>179.59</td>\n",
       "    </tr>\n",
       "    <tr>\n",
       "      <th>4</th>\n",
       "      <td>199.88</td>\n",
       "    </tr>\n",
       "    <tr>\n",
       "      <th>...</th>\n",
       "      <td>...</td>\n",
       "    </tr>\n",
       "    <tr>\n",
       "      <th>191</th>\n",
       "      <td>143.01</td>\n",
       "    </tr>\n",
       "    <tr>\n",
       "      <th>192</th>\n",
       "      <td>166.13</td>\n",
       "    </tr>\n",
       "    <tr>\n",
       "      <th>193</th>\n",
       "      <td>202.37</td>\n",
       "    </tr>\n",
       "    <tr>\n",
       "      <th>194</th>\n",
       "      <td>201.32</td>\n",
       "    </tr>\n",
       "    <tr>\n",
       "      <th>195</th>\n",
       "      <td>195.78</td>\n",
       "    </tr>\n",
       "  </tbody>\n",
       "</table>\n",
       "<p>196 rows × 1 columns</p>\n",
       "</div>"
      ],
      "text/plain": [
       "     Out-Of-Pocket Drug Expenses\n",
       "0                         200.31\n",
       "1                         143.38\n",
       "2                         164.43\n",
       "3                         179.59\n",
       "4                         199.88\n",
       "..                           ...\n",
       "191                       143.01\n",
       "192                       166.13\n",
       "193                       202.37\n",
       "194                       201.32\n",
       "195                       195.78\n",
       "\n",
       "[196 rows x 1 columns]"
      ]
     },
     "execution_count": 6,
     "metadata": {},
     "output_type": "execute_result"
    }
   ],
   "source": [
    "DrugExpenses"
   ]
  },
  {
   "cell_type": "code",
   "execution_count": 7,
   "id": "d90386a9",
   "metadata": {},
   "outputs": [
    {
     "data": {
      "image/png": "[encoded data removed]",
      "text/plain": [
       "<Figure size 432x288 with 1 Axes>"
      ]
     },
     "metadata": {
      "needs_background": "light"
     },
     "output_type": "display_data"
    }
   ],
   "source": [
    "qqplot(DrugExpenses['Out-Of-Pocket Drug Expenses'], line='s')\n",
    "pyplot.show()"
   ]
  },
  {
   "cell_type": "code",
   "execution_count": 8,
   "id": "c4e69bb8",
   "metadata": {},
   "outputs": [
    {
     "name": "stdout",
     "output_type": "stream",
     "text": [
      "H_null - Data is normally distributed\n",
      "H_alt - Data is not normally distributed\n",
      "\n",
      "Shapiro Statistics=0.990, p_value=0.185\n",
      "\n"
     ]
    }
   ],
   "source": [
    "from scipy import stats\n",
    "from scipy.stats import norm\n",
    "from scipy.stats import shapiro\n",
    "#(Shapiro Wikk Test) , sample size less than 50 \n",
    "confidence_level = 0.95 #specify the confidence level\n",
    "alpha = (1-confidence_level) #calculate alpha \n",
    "x = DrugExpenses['Out-Of-Pocket Drug Expenses']\n",
    "stats, p = shapiro(x)\n",
    "print('H_null - Data is normally distributed')\n",
    "print('H_alt - Data is not normally distributed')\n",
    "print()\n",
    "print('Shapiro Statistics=%.3f, p_value=%.3f' % (stats, p))\n",
    "print()"
   ]
  },
  {
   "cell_type": "code",
   "execution_count": 9,
   "id": "c74aa946",
   "metadata": {},
   "outputs": [
    {
     "name": "stdout",
     "output_type": "stream",
     "text": [
      "Hypothesis Statement\n",
      "H_null - Data is normally distributed\n",
      "H_alt - Data is not normally distributed\n",
      "\n",
      "Kolmogorov-Smirnov Statistics=0.060, p_value=0.466\n",
      "\n"
     ]
    }
   ],
   "source": [
    "from scipy import stats\n",
    "from scipy.stats import norm\n",
    "from scipy.stats import kstest \n",
    "#(Kolmogorov Smirnov Test) , sample size more than 50 \n",
    "confidence_level = 0.95 #specify the confidence level\n",
    "alpha = (1-confidence_level) #calculate alpha \n",
    "x = DrugExpenses['Out-Of-Pocket Drug Expenses']\n",
    "loc, scale = norm.fit(x) \n",
    "n = norm(loc=loc, scale=scale)# create a normal distribution with loc and s \n",
    "stats,pvalue=stats.kstest(x,n.cdf) #return KS value and P-value\n",
    "print('Hypothesis Statement')\n",
    "print('H_null - Data is normally distributed')\n",
    "print('H_alt - Data is not normally distributed')\n",
    "print()\n",
    "print('Kolmogorov-Smirnov Statistics=%.3f, p_value=%.3f' % (stats, pvalue))\n",
    "print()"
   ]
  },
  {
   "cell_type": "code",
   "execution_count": 10,
   "id": "8b6b3272",
   "metadata": {},
   "outputs": [
    {
     "name": "stdout",
     "output_type": "stream",
     "text": [
      "The null hypothesis is accepted\n",
      "Data is NORMALLY distributed\n",
      "\n"
     ]
    }
   ],
   "source": [
    "if p < alpha: \n",
    "    print('The null hypothesis is rejected') \n",
    "    print('Data is NOT NORMALLY distributed') \n",
    "else: \n",
    "    print('The null hypothesis is accepted') \n",
    "    print('Data is NORMALLY distributed')\n",
    "\n",
    "print()"
   ]
  },
  {
   "cell_type": "code",
   "execution_count": null,
   "id": "534b4b2e",
   "metadata": {},
   "outputs": [],
   "source": [
    "#hypothesis statement for one tail test\n",
    "print('h_null: 2009 average out-of-pocket prescription drug expenses ≥ $173')\n",
    "print('h_alt: 2009 average out-of-pocket prescription drug expenses < $173 (claim)')\n",
    "#specify the confidence level\n",
    "confidence_level= 0.99\n",
    "#calculate significance level alpha\n",
    "alpha=(1-confidence_level)\n",
    "print()\n",
    "print('Significance level, α=%.2f '%(alpha))\n",
    "\n",
    "from scipy.stats import ttest_1samp\n",
    "#p in ttest_1samp is refering to the hypothesized population mean\n",
    "tstat,pvalue=ttest_1samp(DrugExpenses['Out-Of-Pocket Drug Expenses'],173)\n",
    "print()\n",
    "print(\"t Statistic: \",tstat.round(3))\n",
    "#need to divide by 2 because 1 tail test\n",
    "print('P Value (one sided test): %.5f'%(pvalue/2))\n",
    "print()\n",
    "\n",
    "#decision on statistical test\n",
    "if(pvalue/2)<alpha:\n",
    "    print('The null hypothesis is rejected as P-value is less than α ')\n",
    "else:\n",
    "    print('The null hypothesis is accepted as P-value is more than α')"
   ]
  },
  {
   "cell_type": "code",
   "execution_count": null,
   "id": "03619fdf",
   "metadata": {},
   "outputs": [],
   "source": [
    "print('Mean Value:',DrugExpenses['Out-Of-Pocket Drug Expenses'].mean().round(3),' ')\n",
    "#calculate the mean difference\n",
    "Hypo_mean = 173\n",
    "Mean_Diff = DrugExpenses['Out-Of-Pocket Drug Expenses'].mean().round(3)- Hypo_mean\n",
    "print('Mean Difference Value:',Mean_Diff.round(3),' ')"
   ]
  },
  {
   "cell_type": "code",
   "execution_count": null,
   "id": "481e8176",
   "metadata": {},
   "outputs": [],
   "source": []
  }
 ],
 "metadata": {
  "kernelspec": {
   "display_name": "Python 3",
   "language": "python",
   "name": "python3"
  },
  "language_info": {
   "codemirror_mode": {
    "name": "ipython",
    "version": 3
   },
   "file_extension": ".py",
   "mimetype": "text/x-python",
   "name": "python",
   "nbconvert_exporter": "python",
   "pygments_lexer": "ipython3",
   "version": "3.10.5"
  }
 },
 "nbformat": 4,
 "nbformat_minor": 5
}
