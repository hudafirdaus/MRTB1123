{
 "cells": [
  {
   "cell_type": "code",
   "execution_count": 1,
   "id": "3ed5bc58",
   "metadata": {},
   "outputs": [],
   "source": [
    "#import libraries\n",
    "import pandas as pd"
   ]
  },
  {
   "cell_type": "code",
   "execution_count": 2,
   "id": "1e774ad8",
   "metadata": {},
   "outputs": [],
   "source": [
    "Woodmill=pd.read_excel('E:\\Python\\Data\\Woodmill.xlsx')"
   ]
  },
  {
   "cell_type": "code",
   "execution_count": 4,
   "id": "97182f84",
   "metadata": {
    "scrolled": false
   },
   "outputs": [
    {
     "data": {
      "text/html": [
       "<div>\n",
       "<style scoped>\n",
       "    .dataframe tbody tr th:only-of-type {\n",
       "        vertical-align: middle;\n",
       "    }\n",
       "\n",
       "    .dataframe tbody tr th {\n",
       "        vertical-align: top;\n",
       "    }\n",
       "\n",
       "    .dataframe thead th {\n",
       "        text-align: right;\n",
       "    }\n",
       "</style>\n",
       "<table border=\"1\" class=\"dataframe\">\n",
       "  <thead>\n",
       "    <tr style=\"text-align: right;\">\n",
       "      <th></th>\n",
       "      <th>Board</th>\n",
       "      <th>Scanner</th>\n",
       "      <th>Manual</th>\n",
       "    </tr>\n",
       "  </thead>\n",
       "  <tbody>\n",
       "    <tr>\n",
       "      <th>0</th>\n",
       "      <td>1</td>\n",
       "      <td>15.23</td>\n",
       "      <td>6.0680</td>\n",
       "    </tr>\n",
       "    <tr>\n",
       "      <th>1</th>\n",
       "      <td>2</td>\n",
       "      <td>31.07</td>\n",
       "      <td>14.0161</td>\n",
       "    </tr>\n",
       "    <tr>\n",
       "      <th>2</th>\n",
       "      <td>3</td>\n",
       "      <td>18.44</td>\n",
       "      <td>21.3342</td>\n",
       "    </tr>\n",
       "    <tr>\n",
       "      <th>3</th>\n",
       "      <td>4</td>\n",
       "      <td>18.32</td>\n",
       "      <td>24.7752</td>\n",
       "    </tr>\n",
       "    <tr>\n",
       "      <th>4</th>\n",
       "      <td>5</td>\n",
       "      <td>32.11</td>\n",
       "      <td>17.4762</td>\n",
       "    </tr>\n",
       "  </tbody>\n",
       "</table>\n",
       "</div>"
      ],
      "text/plain": [
       "  Board  Scanner   Manual\n",
       "0     1    15.23   6.0680\n",
       "1     2    31.07  14.0161\n",
       "2     3    18.44  21.3342\n",
       "3     4    18.32  24.7752\n",
       "4     5    32.11  17.4762"
      ]
     },
     "execution_count": 4,
     "metadata": {},
     "output_type": "execute_result"
    }
   ],
   "source": [
    "Woodmill.head()"
   ]
  },
  {
   "cell_type": "code",
   "execution_count": 5,
   "id": "313a2ba2",
   "metadata": {},
   "outputs": [
    {
     "data": {
      "text/html": [
       "<div>\n",
       "<style scoped>\n",
       "    .dataframe tbody tr th:only-of-type {\n",
       "        vertical-align: middle;\n",
       "    }\n",
       "\n",
       "    .dataframe tbody tr th {\n",
       "        vertical-align: top;\n",
       "    }\n",
       "\n",
       "    .dataframe thead th {\n",
       "        text-align: right;\n",
       "    }\n",
       "</style>\n",
       "<table border=\"1\" class=\"dataframe\">\n",
       "  <thead>\n",
       "    <tr style=\"text-align: right;\">\n",
       "      <th></th>\n",
       "      <th>count</th>\n",
       "      <th>mean</th>\n",
       "      <th>std</th>\n",
       "      <th>min</th>\n",
       "      <th>25%</th>\n",
       "      <th>50%</th>\n",
       "      <th>75%</th>\n",
       "      <th>max</th>\n",
       "    </tr>\n",
       "  </thead>\n",
       "  <tbody>\n",
       "    <tr>\n",
       "      <th>Scanner</th>\n",
       "      <td>100.0</td>\n",
       "      <td>29.938900</td>\n",
       "      <td>7.348212</td>\n",
       "      <td>12.670</td>\n",
       "      <td>24.9700</td>\n",
       "      <td>30.34000</td>\n",
       "      <td>34.7875</td>\n",
       "      <td>47.87</td>\n",
       "    </tr>\n",
       "    <tr>\n",
       "      <th>Manual</th>\n",
       "      <td>100.0</td>\n",
       "      <td>22.837228</td>\n",
       "      <td>8.501080</td>\n",
       "      <td>6.068</td>\n",
       "      <td>16.4616</td>\n",
       "      <td>22.76945</td>\n",
       "      <td>28.0574</td>\n",
       "      <td>46.22</td>\n",
       "    </tr>\n",
       "  </tbody>\n",
       "</table>\n",
       "</div>"
      ],
      "text/plain": [
       "         count       mean       std     min      25%       50%      75%    max\n",
       "Scanner  100.0  29.938900  7.348212  12.670  24.9700  30.34000  34.7875  47.87\n",
       "Manual   100.0  22.837228  8.501080   6.068  16.4616  22.76945  28.0574  46.22"
      ]
     },
     "execution_count": 5,
     "metadata": {},
     "output_type": "execute_result"
    }
   ],
   "source": [
    "Woodmill.describe().T"
   ]
  },
  {
   "cell_type": "code",
   "execution_count": 6,
   "id": "3003da76",
   "metadata": {},
   "outputs": [
    {
     "name": "stdout",
     "output_type": "stream",
     "text": [
      "Median Value (Scanner): 30.34  \n",
      "Median Value (Manual): 22.76945  \n"
     ]
    }
   ],
   "source": [
    "print('Median Value (Scanner):',Woodmill['Scanner'].median(),' ')\n",
    "print('Median Value (Manual):',Woodmill['Manual'].median( ),' ')"
   ]
  },
  {
   "cell_type": "code",
   "execution_count": 7,
   "id": "ea14e339",
   "metadata": {},
   "outputs": [
    {
     "name": "stdout",
     "output_type": "stream",
     "text": [
      "Mode Value (Scanner): 0    34.02\n",
      "1    34.76\n",
      "dtype: float64  \n",
      "Mode Value (Manual): 0      6.0680\n",
      "1      6.8546\n",
      "2      7.1599\n",
      "3      7.6129\n",
      "4      8.7022\n",
      "       ...   \n",
      "95    38.4457\n",
      "96    38.5199\n",
      "97    39.4378\n",
      "98    41.3713\n",
      "99    46.2200\n",
      "Length: 100, dtype: float64  \n"
     ]
    }
   ],
   "source": [
    "print('Mode Value (Scanner):',Woodmill['Scanner'].mode(),' ')\n",
    "print('Mode Value (Manual):',Woodmill['Manual'].mode( ),' ')"
   ]
  },
  {
   "cell_type": "code",
   "execution_count": 8,
   "id": "cf6c64dd",
   "metadata": {},
   "outputs": [],
   "source": [
    "CV_Scanner = (Woodmill['Scanner'].std()/Woodmill['Scanner'].mean())*100"
   ]
  },
  {
   "cell_type": "code",
   "execution_count": 9,
   "id": "61b1b7ff",
   "metadata": {},
   "outputs": [
    {
     "name": "stdout",
     "output_type": "stream",
     "text": [
      "CV for Scanner: 24.544\n"
     ]
    }
   ],
   "source": [
    "print('CV for Scanner:',CV_Scanner.round(3))"
   ]
  },
  {
   "cell_type": "code",
   "execution_count": 10,
   "id": "c4c52ab5",
   "metadata": {},
   "outputs": [],
   "source": [
    "CV_Manual = (Woodmill['Manual'].std()/Woodmill['Manual'].mean())*100"
   ]
  },
  {
   "cell_type": "code",
   "execution_count": 11,
   "id": "8499b23e",
   "metadata": {},
   "outputs": [
    {
     "name": "stdout",
     "output_type": "stream",
     "text": [
      "CV for Manual: 37.225\n"
     ]
    }
   ],
   "source": [
    "print('CV for Manual:',CV_Manual.round (3))"
   ]
  },
  {
   "cell_type": "code",
   "execution_count": 12,
   "id": "96af9336",
   "metadata": {},
   "outputs": [
    {
     "name": "stdout",
     "output_type": "stream",
     "text": [
      "Skewness Value (Scanner): 0.09405756451107979  \n"
     ]
    }
   ],
   "source": [
    "print('Skewness Value (Scanner):',Woodmill['Scanner'].skew(),' ')"
   ]
  },
  {
   "cell_type": "code",
   "execution_count": 13,
   "id": "767809c2",
   "metadata": {},
   "outputs": [
    {
     "name": "stdout",
     "output_type": "stream",
     "text": [
      "Skewness Value (Manual): 0.24586147774006512  \n"
     ]
    }
   ],
   "source": [
    "print('Skewness Value (Manual):',Woodmill['Manual'].skew(),' ')"
   ]
  },
  {
   "cell_type": "code",
   "execution_count": null,
   "id": "a352be97",
   "metadata": {},
   "outputs": [],
   "source": []
  }
 ],
 "metadata": {
  "kernelspec": {
   "display_name": "Python 3",
   "language": "python",
   "name": "python3"
  },
  "language_info": {
   "codemirror_mode": {
    "name": "ipython",
    "version": 3
   },
   "file_extension": ".py",
   "mimetype": "text/x-python",
   "name": "python",
   "nbconvert_exporter": "python",
   "pygments_lexer": "ipython3",
   "version": "3.10.5"
  }
 },
 "nbformat": 4,
 "nbformat_minor": 5
}
