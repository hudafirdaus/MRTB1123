{
 "cells": [
  {
   "cell_type": "code",
   "execution_count": 2,
   "id": "d965c324",
   "metadata": {},
   "outputs": [],
   "source": [
    "import pandas as pd\n",
    "import numpy as np \n",
    "import matplotlib.pyplot as plt\n",
    "import scipy.stats as st"
   ]
  },
  {
   "cell_type": "code",
   "execution_count": 3,
   "id": "17df9297",
   "metadata": {},
   "outputs": [
    {
     "data": {
      "text/html": [
       "<div>\n",
       "<style scoped>\n",
       "    .dataframe tbody tr th:only-of-type {\n",
       "        vertical-align: middle;\n",
       "    }\n",
       "\n",
       "    .dataframe tbody tr th {\n",
       "        vertical-align: top;\n",
       "    }\n",
       "\n",
       "    .dataframe thead th {\n",
       "        text-align: right;\n",
       "    }\n",
       "</style>\n",
       "<table border=\"1\" class=\"dataframe\">\n",
       "  <thead>\n",
       "    <tr style=\"text-align: right;\">\n",
       "      <th></th>\n",
       "      <th>01Revenue</th>\n",
       "      <th>04Revenue</th>\n",
       "    </tr>\n",
       "  </thead>\n",
       "  <tbody>\n",
       "    <tr>\n",
       "      <th>0</th>\n",
       "      <td>0.54</td>\n",
       "      <td>0.73</td>\n",
       "    </tr>\n",
       "    <tr>\n",
       "      <th>1</th>\n",
       "      <td>0.33</td>\n",
       "      <td>1.04</td>\n",
       "    </tr>\n",
       "    <tr>\n",
       "      <th>2</th>\n",
       "      <td>0.81</td>\n",
       "      <td>0.47</td>\n",
       "    </tr>\n",
       "    <tr>\n",
       "      <th>3</th>\n",
       "      <td>1.00</td>\n",
       "      <td>1.13</td>\n",
       "    </tr>\n",
       "    <tr>\n",
       "      <th>4</th>\n",
       "      <td>0.41</td>\n",
       "      <td>0.68</td>\n",
       "    </tr>\n",
       "  </tbody>\n",
       "</table>\n",
       "</div>"
      ],
      "text/plain": [
       "   01Revenue  04Revenue\n",
       "0       0.54       0.73\n",
       "1       0.33       1.04\n",
       "2       0.81       0.47\n",
       "3       1.00       1.13\n",
       "4       0.41       0.68"
      ]
     },
     "execution_count": 3,
     "metadata": {},
     "output_type": "execute_result"
    }
   ],
   "source": [
    "Revenues=pd.read_excel('E:\\Python\\Data\\Revenues.xlsx')\n",
    "Revenues.head()"
   ]
  },
  {
   "cell_type": "code",
   "execution_count": 5,
   "id": "e99fc3b0",
   "metadata": {},
   "outputs": [
    {
     "data": {
      "text/plain": [
       "<AxesSubplot:xlabel='01Revenue', ylabel='04Revenue'>"
      ]
     },
     "execution_count": 5,
     "metadata": {},
     "output_type": "execute_result"
    },
    {
     "data": {
      "image/png": "[encoded data removed]",
      "text/plain": [
       "<Figure size 1440x720 with 1 Axes>"
      ]
     },
     "metadata": {
      "needs_background": "light"
     },
     "output_type": "display_data"
    }
   ],
   "source": [
    "Revenues.plot.scatter(x='01Revenue',y='04Revenue',figsize=[20,10])"
   ]
  },
  {
   "cell_type": "code",
   "execution_count": 4,
   "id": "328dfaed",
   "metadata": {},
   "outputs": [
    {
     "data": {
      "text/html": [
       "<style type=\"text/css\">\n",
       "#T_f71ac_row0_col0, #T_f71ac_row1_col1 {\n",
       "  background-color: #b40426;\n",
       "  color: #f1f1f1;\n",
       "}\n",
       "#T_f71ac_row0_col1, #T_f71ac_row1_col0 {\n",
       "  background-color: #3b4cc0;\n",
       "  color: #f1f1f1;\n",
       "}\n",
       "</style>\n",
       "<table id=\"T_f71ac_\">\n",
       "  <thead>\n",
       "    <tr>\n",
       "      <th class=\"blank level0\" >&nbsp;</th>\n",
       "      <th class=\"col_heading level0 col0\" >01Revenue</th>\n",
       "      <th class=\"col_heading level0 col1\" >04Revenue</th>\n",
       "    </tr>\n",
       "  </thead>\n",
       "  <tbody>\n",
       "    <tr>\n",
       "      <th id=\"T_f71ac_level0_row0\" class=\"row_heading level0 row0\" >01Revenue</th>\n",
       "      <td id=\"T_f71ac_row0_col0\" class=\"data row0 col0\" >1.000000</td>\n",
       "      <td id=\"T_f71ac_row0_col1\" class=\"data row0 col1\" >0.117386</td>\n",
       "    </tr>\n",
       "    <tr>\n",
       "      <th id=\"T_f71ac_level0_row1\" class=\"row_heading level0 row1\" >04Revenue</th>\n",
       "      <td id=\"T_f71ac_row1_col0\" class=\"data row1 col0\" >0.117386</td>\n",
       "      <td id=\"T_f71ac_row1_col1\" class=\"data row1 col1\" >1.000000</td>\n",
       "    </tr>\n",
       "  </tbody>\n",
       "</table>\n"
      ],
      "text/plain": [
       "<pandas.io.formats.style.Styler at 0x19e83ee9150>"
      ]
     },
     "execution_count": 4,
     "metadata": {},
     "output_type": "execute_result"
    }
   ],
   "source": [
    "Revenues.corr(method='spearman').style.background_gradient(cmap='coolwarm')"
   ]
  },
  {
   "cell_type": "code",
   "execution_count": 6,
   "id": "166fa5bf",
   "metadata": {},
   "outputs": [
    {
     "name": "stdout",
     "output_type": "stream",
     "text": [
      "Pearson Correlation=0.117, p-value=0.412\n"
     ]
    }
   ],
   "source": [
    "#producing pearson correlation\n",
    "from scipy.stats import spearmanr\n",
    "data1= Revenues['01Revenue']\n",
    "data2= Revenues['04Revenue']\n",
    "stat,p=spearmanr(data1,data2)\n",
    "print('Pearson Correlation=%.3f, p-value=%.3f'%(stat,p))"
   ]
  },
  {
   "cell_type": "code",
   "execution_count": 7,
   "id": "3a6e78c3",
   "metadata": {},
   "outputs": [
    {
     "name": "stdout",
     "output_type": "stream",
     "text": [
      "H0 - ρ = 0 (There are no correlation between variables)\n",
      "H1 - ρ ≠ 0 (There exists correlation between variables)\n",
      "\n",
      "Significance level, α:  0.05\n",
      "\n",
      "Using significance level of 0.05 and p-value = 0.41200922155180475 .H0 is accepted.\n",
      "There are NO correlation between variables\n"
     ]
    }
   ],
   "source": [
    "#Conducting hypothesis test to test either exists relationship\n",
    "print('H0 - ρ = 0 (There are no correlation between variables)')\n",
    "print('H1 - ρ ≠ 0 (There exists correlation between variables)')\n",
    "cofidence_level=0.95\n",
    "#calculate alpha (significance level)\n",
    "alpha=round((1-cofidence_level),2)\n",
    "print()\n",
    "print('Significance level, α: ',alpha)\n",
    "print()\n",
    "if p< alpha:\n",
    "    print('Using significance level of',alpha, 'and p-value =', p,'.H0 is rejected.')\n",
    "    print('There EXISTS correlation between variables')\n",
    "else:\n",
    "    print('Using significance level of',alpha,'and p-value =', p,'.H0 is accepted.')\n",
    "    print('There are NO correlation between variables')"
   ]
  },
  {
   "cell_type": "code",
   "execution_count": null,
   "id": "f6cf8ed9",
   "metadata": {},
   "outputs": [],
   "source": []
  }
 ],
 "metadata": {
  "kernelspec": {
   "display_name": "Python 3",
   "language": "python",
   "name": "python3"
  },
  "language_info": {
   "codemirror_mode": {
    "name": "ipython",
    "version": 3
   },
   "file_extension": ".py",
   "mimetype": "text/x-python",
   "name": "python",
   "nbconvert_exporter": "python",
   "pygments_lexer": "ipython3",
   "version": "3.10.5"
  }
 },
 "nbformat": 4,
 "nbformat_minor": 5
}
