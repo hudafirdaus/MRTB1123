{
 "cells": [
  {
   "cell_type": "code",
   "execution_count": 1,
   "id": "b91b3db9",
   "metadata": {},
   "outputs": [],
   "source": [
    "import pandas as pd\n",
    "import numpy as np\n",
    "import scipy.stats as st \n",
    "from statsmodels.graphics.gofplots import qqplot\n",
    "from matplotlib import pyplot"
   ]
  },
  {
   "cell_type": "code",
   "execution_count": 2,
   "id": "d8af3d15",
   "metadata": {},
   "outputs": [
    {
     "data": {
      "text/html": [
       "<div>\n",
       "<style scoped>\n",
       "    .dataframe tbody tr th:only-of-type {\n",
       "        vertical-align: middle;\n",
       "    }\n",
       "\n",
       "    .dataframe tbody tr th {\n",
       "        vertical-align: top;\n",
       "    }\n",
       "\n",
       "    .dataframe thead th {\n",
       "        text-align: right;\n",
       "    }\n",
       "</style>\n",
       "<table border=\"1\" class=\"dataframe\">\n",
       "  <thead>\n",
       "    <tr style=\"text-align: right;\">\n",
       "      <th></th>\n",
       "      <th>Account Number</th>\n",
       "      <th>Caller Gender</th>\n",
       "      <th>Account Holder\\nSex</th>\n",
       "      <th>Past Due Amount</th>\n",
       "      <th>Current Amount\\nDue</th>\n",
       "      <th>Was this a\\nBilling Question?</th>\n",
       "    </tr>\n",
       "  </thead>\n",
       "  <tbody>\n",
       "    <tr>\n",
       "      <th>0</th>\n",
       "      <td>4348291</td>\n",
       "      <td>2</td>\n",
       "      <td>2</td>\n",
       "      <td>40.35</td>\n",
       "      <td>82.85</td>\n",
       "      <td>3</td>\n",
       "    </tr>\n",
       "    <tr>\n",
       "      <th>1</th>\n",
       "      <td>6008516</td>\n",
       "      <td>1</td>\n",
       "      <td>1</td>\n",
       "      <td>0.00</td>\n",
       "      <td>-129.67</td>\n",
       "      <td>4</td>\n",
       "    </tr>\n",
       "    <tr>\n",
       "      <th>2</th>\n",
       "      <td>17476479</td>\n",
       "      <td>1</td>\n",
       "      <td>2</td>\n",
       "      <td>0.00</td>\n",
       "      <td>76.38</td>\n",
       "      <td>4</td>\n",
       "    </tr>\n",
       "    <tr>\n",
       "      <th>3</th>\n",
       "      <td>13846306</td>\n",
       "      <td>2</td>\n",
       "      <td>2</td>\n",
       "      <td>0.00</td>\n",
       "      <td>99.24</td>\n",
       "      <td>4</td>\n",
       "    </tr>\n",
       "    <tr>\n",
       "      <th>4</th>\n",
       "      <td>21393711</td>\n",
       "      <td>1</td>\n",
       "      <td>1</td>\n",
       "      <td>0.00</td>\n",
       "      <td>37.98</td>\n",
       "      <td>3</td>\n",
       "    </tr>\n",
       "  </tbody>\n",
       "</table>\n",
       "</div>"
      ],
      "text/plain": [
       "   Account Number  Caller Gender  Account Holder\\nSex  Past Due Amount  \\\n",
       "0         4348291              2                    2            40.35   \n",
       "1         6008516              1                    1             0.00   \n",
       "2        17476479              1                    2             0.00   \n",
       "3        13846306              2                    2             0.00   \n",
       "4        21393711              1                    1             0.00   \n",
       "\n",
       "   Current Amount\\nDue  Was this a\\nBilling Question?  \n",
       "0                82.85                              3  \n",
       "1              -129.67                              4  \n",
       "2                76.38                              4  \n",
       "3                99.24                              4  \n",
       "4                37.98                              3  "
      ]
     },
     "execution_count": 2,
     "metadata": {},
     "output_type": "execute_result"
    }
   ],
   "source": [
    "BankCallCenter=pd.read_excel('E:\\Python\\Data\\BankCallCenter.xlsx','Data')\n",
    "BankCallCenter.head()"
   ]
  },
  {
   "cell_type": "code",
   "execution_count": 3,
   "id": "efd6200d",
   "metadata": {},
   "outputs": [
    {
     "data": {
      "text/html": [
       "<div>\n",
       "<style scoped>\n",
       "    .dataframe tbody tr th:only-of-type {\n",
       "        vertical-align: middle;\n",
       "    }\n",
       "\n",
       "    .dataframe tbody tr th {\n",
       "        vertical-align: top;\n",
       "    }\n",
       "\n",
       "    .dataframe thead th {\n",
       "        text-align: right;\n",
       "    }\n",
       "</style>\n",
       "<table border=\"1\" class=\"dataframe\">\n",
       "  <thead>\n",
       "    <tr style=\"text-align: right;\">\n",
       "      <th></th>\n",
       "      <th>Past Due Amount</th>\n",
       "    </tr>\n",
       "  </thead>\n",
       "  <tbody>\n",
       "    <tr>\n",
       "      <th>0</th>\n",
       "      <td>40.35</td>\n",
       "    </tr>\n",
       "    <tr>\n",
       "      <th>1</th>\n",
       "      <td>0.00</td>\n",
       "    </tr>\n",
       "    <tr>\n",
       "      <th>2</th>\n",
       "      <td>0.00</td>\n",
       "    </tr>\n",
       "    <tr>\n",
       "      <th>3</th>\n",
       "      <td>0.00</td>\n",
       "    </tr>\n",
       "    <tr>\n",
       "      <th>4</th>\n",
       "      <td>0.00</td>\n",
       "    </tr>\n",
       "  </tbody>\n",
       "</table>\n",
       "</div>"
      ],
      "text/plain": [
       "   Past Due Amount\n",
       "0            40.35\n",
       "1             0.00\n",
       "2             0.00\n",
       "3             0.00\n",
       "4             0.00"
      ]
     },
     "execution_count": 3,
     "metadata": {},
     "output_type": "execute_result"
    }
   ],
   "source": [
    "PastDueAmount=pd.read_excel('E:\\Python\\Data\\BankCallCenter.xlsx','Data')[['Past Due Amount']]\n",
    "PastDueAmount.head()"
   ]
  },
  {
   "cell_type": "code",
   "execution_count": 4,
   "id": "d90386a9",
   "metadata": {},
   "outputs": [
    {
     "data": {
      "text/html": [
       "<div>\n",
       "<style scoped>\n",
       "    .dataframe tbody tr th:only-of-type {\n",
       "        vertical-align: middle;\n",
       "    }\n",
       "\n",
       "    .dataframe tbody tr th {\n",
       "        vertical-align: top;\n",
       "    }\n",
       "\n",
       "    .dataframe thead th {\n",
       "        text-align: right;\n",
       "    }\n",
       "</style>\n",
       "<table border=\"1\" class=\"dataframe\">\n",
       "  <thead>\n",
       "    <tr style=\"text-align: right;\">\n",
       "      <th></th>\n",
       "      <th>Past Due Amount</th>\n",
       "    </tr>\n",
       "  </thead>\n",
       "  <tbody>\n",
       "    <tr>\n",
       "      <th>0</th>\n",
       "      <td>40.35</td>\n",
       "    </tr>\n",
       "    <tr>\n",
       "      <th>1</th>\n",
       "      <td>0.00</td>\n",
       "    </tr>\n",
       "    <tr>\n",
       "      <th>2</th>\n",
       "      <td>0.00</td>\n",
       "    </tr>\n",
       "    <tr>\n",
       "      <th>3</th>\n",
       "      <td>0.00</td>\n",
       "    </tr>\n",
       "    <tr>\n",
       "      <th>4</th>\n",
       "      <td>0.00</td>\n",
       "    </tr>\n",
       "    <tr>\n",
       "      <th>...</th>\n",
       "      <td>...</td>\n",
       "    </tr>\n",
       "    <tr>\n",
       "      <th>62</th>\n",
       "      <td>0.00</td>\n",
       "    </tr>\n",
       "    <tr>\n",
       "      <th>63</th>\n",
       "      <td>0.00</td>\n",
       "    </tr>\n",
       "    <tr>\n",
       "      <th>64</th>\n",
       "      <td>0.00</td>\n",
       "    </tr>\n",
       "    <tr>\n",
       "      <th>65</th>\n",
       "      <td>0.00</td>\n",
       "    </tr>\n",
       "    <tr>\n",
       "      <th>66</th>\n",
       "      <td>385.78</td>\n",
       "    </tr>\n",
       "  </tbody>\n",
       "</table>\n",
       "<p>67 rows × 1 columns</p>\n",
       "</div>"
      ],
      "text/plain": [
       "    Past Due Amount\n",
       "0             40.35\n",
       "1              0.00\n",
       "2              0.00\n",
       "3              0.00\n",
       "4              0.00\n",
       "..              ...\n",
       "62             0.00\n",
       "63             0.00\n",
       "64             0.00\n",
       "65             0.00\n",
       "66           385.78\n",
       "\n",
       "[67 rows x 1 columns]"
      ]
     },
     "execution_count": 4,
     "metadata": {},
     "output_type": "execute_result"
    }
   ],
   "source": [
    "PastDueAmount"
   ]
  },
  {
   "cell_type": "code",
   "execution_count": 5,
   "id": "640ba853",
   "metadata": {},
   "outputs": [
    {
     "data": {
      "image/png": "[encoded data removed]",
      "text/plain": [
       "<Figure size 432x288 with 1 Axes>"
      ]
     },
     "metadata": {
      "needs_background": "light"
     },
     "output_type": "display_data"
    }
   ],
   "source": [
    "qqplot(PastDueAmount['Past Due Amount'], line='s')\n",
    "pyplot.show()"
   ]
  },
  {
   "cell_type": "code",
   "execution_count": 34,
   "id": "25dcd80a",
   "metadata": {
    "collapsed": true
   },
   "outputs": [
    {
     "name": "stdout",
     "output_type": "stream",
     "text": [
      "H_null - Data is normally distributed\n",
      "H_alt - Data is not normally distributed\n",
      "\n",
      "Shapiro Statistics=0.389, p_value=0.000\n",
      "\n"
     ]
    }
   ],
   "source": [
    "from scipy import stats\n",
    "from scipy.stats import norm\n",
    "from scipy.stats import shapiro\n",
    "#(Shapiro Wikk Test) , sample size less than 50 \n",
    "confidence_level = 0.95 #specify the confidence level\n",
    "alpha = (1-confidence_level) #calculate alpha \n",
    "x = PastDueAmount['Past Due Amount']\n",
    "stats, p = shapiro(x)\n",
    "print('H_null - Data is normally distributed')\n",
    "print('H_alt - Data is not normally distributed')\n",
    "print()\n",
    "print('Shapiro Statistics=%.3f, p_value=%.3f' % (stats, p))\n",
    "print()"
   ]
  },
  {
   "cell_type": "code",
   "execution_count": 16,
   "id": "c74aa946",
   "metadata": {},
   "outputs": [
    {
     "name": "stdout",
     "output_type": "stream",
     "text": [
      "H_null - Data is normally distributed\n",
      "H_alt - Data is not normally distributed\n",
      "\n",
      "Kolmogorov-Smirnov Statistics= 0.42596783878423206 P-value 1.5041732458113143e-11\n",
      "\n"
     ]
    }
   ],
   "source": [
    "from scipy import stats\n",
    "from scipy.stats import norm \n",
    "#(Kolmogorov Smirnov Test) , sample size more than 50 \n",
    "confidence_level = 0.95 #specify the confidence level\n",
    "alpha = (1-confidence_level) #calculate alpha \n",
    "x = PastDueAmount['Past Due Amount']\n",
    "loc, scale = norm.fit(x) \n",
    "n = norm(loc=loc, scale=scale)# create a normal distribution with loc and s \n",
    "stats,p=stats.kstest(x,n.cdf) #return KS value and P-value\n",
    "print('H_null - Data is normally distributed')\n",
    "print('H_alt - Data is not normally distributed')\n",
    "print()\n",
    "#print('Kolmogorov-Smirnov Statistics=%.3f, p_value=%.3f' % (stats, p))\n",
    "print('Kolmogorov-Smirnov Statistics=',stats, 'P-value', p)\n",
    "print()"
   ]
  },
  {
   "cell_type": "code",
   "execution_count": 12,
   "id": "8b6b3272",
   "metadata": {},
   "outputs": [
    {
     "name": "stdout",
     "output_type": "stream",
     "text": [
      "The null hypothesis is rejected\n",
      "Data is NOT NORMALLY distributed\n",
      "\n"
     ]
    }
   ],
   "source": [
    "if p < alpha: \n",
    "    print('The null hypothesis is rejected') \n",
    "    print('Data is NOT NORMALLY distributed') \n",
    "else: \n",
    "    print('The null hypothesis is accepted') \n",
    "    print('Data is NORMALLY distributed')\n",
    "\n",
    "print()"
   ]
  },
  {
   "cell_type": "code",
   "execution_count": 17,
   "id": "2a69834e",
   "metadata": {},
   "outputs": [
    {
     "name": "stdout",
     "output_type": "stream",
     "text": [
      "h_null: median past-due amount ≥ $20.00\n",
      "h_alt: median past-due amount < $20.00 (claim)\n",
      "\n",
      "Significance level, α=0.10 \n"
     ]
    }
   ],
   "source": [
    "#hypothesis statement for non parametric one tail test\n",
    "print('h_null: median past-due amount ≥ $20.00')\n",
    "print('h_alt: median past-due amount < $20.00 (claim)')\n",
    "#specify the confidence level\n",
    "confidence_level= 0.90\n",
    "#calculate significance level alpha\n",
    "alpha=(1-confidence_level)\n",
    "print()\n",
    "print('Significance level, α=%.2f '%(alpha))"
   ]
  },
  {
   "cell_type": "code",
   "execution_count": 18,
   "id": "534b4b2e",
   "metadata": {},
   "outputs": [
    {
     "name": "stdout",
     "output_type": "stream",
     "text": [
      "\n",
      "Wilcoxon Statistics=0.000, p_value=0.001\n"
     ]
    }
   ],
   "source": [
    "from scipy import stats\n",
    "from scipy.stats import wilcoxon\n",
    "confidence_level = 0.90 #specify the confidence level\n",
    "alpha = (1-confidence_level) #calculate alpha \n",
    "x = PastDueAmount['Past Due Amount']\n",
    "\n",
    "stats,p = stats.wilcoxon(x)\n",
    "print()\n",
    "print('Wilcoxon Statistics=%.3f, p_value=%.3f' % (stats, p))"
   ]
  },
  {
   "cell_type": "code",
   "execution_count": 19,
   "id": "50cdc70f",
   "metadata": {},
   "outputs": [
    {
     "name": "stdout",
     "output_type": "stream",
     "text": [
      "The null hypothesis is rejected as P-value is less than α \n"
     ]
    }
   ],
   "source": [
    "#decision on statistical test\n",
    "if(p/2)<alpha:\n",
    "    print('The null hypothesis is rejected as P-value is less than α ')\n",
    "else:\n",
    "    print('The null hypothesis is accepted as P-value is more than α')"
   ]
  },
  {
   "cell_type": "code",
   "execution_count": null,
   "id": "d8d08271",
   "metadata": {},
   "outputs": [],
   "source": []
  }
 ],
 "metadata": {
  "kernelspec": {
   "display_name": "Python 3",
   "language": "python",
   "name": "python3"
  },
  "language_info": {
   "codemirror_mode": {
    "name": "ipython",
    "version": 3
   },
   "file_extension": ".py",
   "mimetype": "text/x-python",
   "name": "python",
   "nbconvert_exporter": "python",
   "pygments_lexer": "ipython3",
   "version": "3.10.5"
  }
 },
 "nbformat": 4,
 "nbformat_minor": 5
}
