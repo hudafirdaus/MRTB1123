{
 "cells": [
  {
   "cell_type": "code",
   "execution_count": 1,
   "id": "1707431e",
   "metadata": {},
   "outputs": [],
   "source": [
    "import pandas as pd\n",
    "import numpy as np\n",
    "import scipy.stats as st "
   ]
  },
  {
   "cell_type": "code",
   "execution_count": 5,
   "id": "b27b66ea",
   "metadata": {},
   "outputs": [],
   "source": [
    "Spam=pd.read_excel('E:\\Python\\Data\\Spam.xlsx','Data')"
   ]
  },
  {
   "cell_type": "code",
   "execution_count": 6,
   "id": "484f7a49",
   "metadata": {},
   "outputs": [
    {
     "data": {
      "text/html": [
       "<div>\n",
       "<style scoped>\n",
       "    .dataframe tbody tr th:only-of-type {\n",
       "        vertical-align: middle;\n",
       "    }\n",
       "\n",
       "    .dataframe tbody tr th {\n",
       "        vertical-align: top;\n",
       "    }\n",
       "\n",
       "    .dataframe thead th {\n",
       "        text-align: right;\n",
       "    }\n",
       "</style>\n",
       "<table border=\"1\" class=\"dataframe\">\n",
       "  <thead>\n",
       "    <tr style=\"text-align: right;\">\n",
       "      <th></th>\n",
       "      <th>Worker</th>\n",
       "      <th>Response: More Spam Today</th>\n",
       "    </tr>\n",
       "  </thead>\n",
       "  <tbody>\n",
       "    <tr>\n",
       "      <th>0</th>\n",
       "      <td>1</td>\n",
       "      <td>Yes</td>\n",
       "    </tr>\n",
       "    <tr>\n",
       "      <th>1</th>\n",
       "      <td>2</td>\n",
       "      <td>Yes</td>\n",
       "    </tr>\n",
       "    <tr>\n",
       "      <th>2</th>\n",
       "      <td>3</td>\n",
       "      <td>No</td>\n",
       "    </tr>\n",
       "    <tr>\n",
       "      <th>3</th>\n",
       "      <td>4</td>\n",
       "      <td>No</td>\n",
       "    </tr>\n",
       "    <tr>\n",
       "      <th>4</th>\n",
       "      <td>5</td>\n",
       "      <td>No</td>\n",
       "    </tr>\n",
       "  </tbody>\n",
       "</table>\n",
       "</div>"
      ],
      "text/plain": [
       "   Worker Response: More Spam Today\n",
       "0       1                       Yes\n",
       "1       2                       Yes\n",
       "2       3                        No\n",
       "3       4                        No\n",
       "4       5                        No"
      ]
     },
     "execution_count": 6,
     "metadata": {},
     "output_type": "execute_result"
    }
   ],
   "source": [
    "Spam.head()"
   ]
  },
  {
   "cell_type": "code",
   "execution_count": 9,
   "id": "1c9d8108",
   "metadata": {},
   "outputs": [
    {
     "data": {
      "text/plain": [
       "Response: More Spam Today\n",
       "No     168\n",
       "Yes     30\n",
       "Name: Response: More Spam Today, dtype: int64"
      ]
     },
     "execution_count": 9,
     "metadata": {},
     "output_type": "execute_result"
    }
   ],
   "source": [
    "Spam.groupby('Response: More Spam Today')['Response: More Spam Today'].count()"
   ]
  },
  {
   "cell_type": "code",
   "execution_count": 13,
   "id": "7df06557",
   "metadata": {},
   "outputs": [
    {
     "name": "stdout",
     "output_type": "stream",
     "text": [
      "HYPOTHESIS STATEMENT\n",
      "H_NULL: proportion of workers getting spam  ≥ 0.21 (21%)\n",
      "H_ALT:proportion of workers getting spam < 0.21 (21%)(claim)\n",
      "\n",
      "Significance level, α=0.05 \n",
      "\n",
      "P Value: 0.023\n",
      "\n"
     ]
    }
   ],
   "source": [
    "#two tail test , non-parametric , proportion nominal data (binomial test)\n",
    "print('HYPOTHESIS STATEMENT')\n",
    "print('H_NULL: proportion of workers getting spam  ≥ 0.21 (21%)')\n",
    "print('H_ALT:proportion of workers getting spam < 0.21 (21%)(claim)')\n",
    "cofidence_level=0.95\n",
    "#specify the confidence level \n",
    "alpha=(1-cofidence_level)\n",
    "#calculate alpha (significance level) \n",
    "print()\n",
    "print('Significance level, α=%.2f '%(alpha))\n",
    "from scipy import stats\n",
    "#30: yes spam, p=0.21 refering to proportion 21%\n",
    "pvalue = stats.binom_test(30,n=198,p=0.21,alternative='less')\n",
    "\n",
    "print()\n",
    "print('P Value: %.3f' %pvalue)\n",
    "#default test function is for 2 tail test\n",
    "print()"
   ]
  },
  {
   "cell_type": "code",
   "execution_count": 14,
   "id": "64340d30",
   "metadata": {},
   "outputs": [
    {
     "name": "stdout",
     "output_type": "stream",
     "text": [
      "The null hypothesis is rejected\n",
      "proportion of workers getting spam < 0.21 (21%)(claim)\n",
      "\n"
     ]
    }
   ],
   "source": [
    "if pvalue < alpha: \n",
    "    print('The null hypothesis is rejected') \n",
    "    print('proportion of workers getting spam < 0.21 (21%)(claim)') \n",
    "else: \n",
    "    print('The null hypothesis is accepted') \n",
    "    print('proportion of workers getting spam  ≥ 0.21 (21%)')\n",
    "\n",
    "print()"
   ]
  },
  {
   "cell_type": "code",
   "execution_count": null,
   "id": "9de40df5",
   "metadata": {},
   "outputs": [],
   "source": []
  }
 ],
 "metadata": {
  "kernelspec": {
   "display_name": "Python 3",
   "language": "python",
   "name": "python3"
  },
  "language_info": {
   "codemirror_mode": {
    "name": "ipython",
    "version": 3
   },
   "file_extension": ".py",
   "mimetype": "text/x-python",
   "name": "python",
   "nbconvert_exporter": "python",
   "pygments_lexer": "ipython3",
   "version": "3.10.5"
  }
 },
 "nbformat": 4,
 "nbformat_minor": 5
}
