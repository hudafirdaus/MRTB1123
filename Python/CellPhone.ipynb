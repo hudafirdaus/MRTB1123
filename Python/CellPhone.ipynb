{
 "cells": [
  {
   "cell_type": "code",
   "execution_count": 1,
   "id": "1707431e",
   "metadata": {},
   "outputs": [],
   "source": [
    "import pandas as pd\n",
    "import numpy as np\n",
    "import scipy.stats as st "
   ]
  },
  {
   "cell_type": "code",
   "execution_count": 2,
   "id": "b27b66ea",
   "metadata": {},
   "outputs": [],
   "source": [
    "CellPhone=pd.read_excel('E:\\Python\\Data\\CellPhoneSurvey.xlsx','Data')"
   ]
  },
  {
   "cell_type": "code",
   "execution_count": 5,
   "id": "484f7a49",
   "metadata": {},
   "outputs": [
    {
     "data": {
      "text/html": [
       "<div>\n",
       "<style scoped>\n",
       "    .dataframe tbody tr th:only-of-type {\n",
       "        vertical-align: middle;\n",
       "    }\n",
       "\n",
       "    .dataframe tbody tr th {\n",
       "        vertical-align: top;\n",
       "    }\n",
       "\n",
       "    .dataframe thead th {\n",
       "        text-align: right;\n",
       "    }\n",
       "</style>\n",
       "<table border=\"1\" class=\"dataframe\">\n",
       "  <thead>\n",
       "    <tr style=\"text-align: right;\">\n",
       "      <th></th>\n",
       "      <th>Gender</th>\n",
       "      <th>Address-City</th>\n",
       "      <th>Age</th>\n",
       "      <th>Make</th>\n",
       "      <th>Price</th>\n",
       "      <th>Home/Business</th>\n",
       "      <th>Monthly plan price</th>\n",
       "      <th>Total $'s spent</th>\n",
       "    </tr>\n",
       "  </thead>\n",
       "  <tbody>\n",
       "    <tr>\n",
       "      <th>0</th>\n",
       "      <td>F</td>\n",
       "      <td>Boise</td>\n",
       "      <td>35.0</td>\n",
       "      <td>Nokia</td>\n",
       "      <td>100.0</td>\n",
       "      <td>Home</td>\n",
       "      <td>25.0</td>\n",
       "      <td>140.0</td>\n",
       "    </tr>\n",
       "    <tr>\n",
       "      <th>1</th>\n",
       "      <td>F</td>\n",
       "      <td>Boise</td>\n",
       "      <td>46.0</td>\n",
       "      <td>Nokia</td>\n",
       "      <td>100.0</td>\n",
       "      <td>Business</td>\n",
       "      <td>100.0</td>\n",
       "      <td>130.0</td>\n",
       "    </tr>\n",
       "    <tr>\n",
       "      <th>2</th>\n",
       "      <td>F</td>\n",
       "      <td>Meridian</td>\n",
       "      <td>31.0</td>\n",
       "      <td>Ericsson</td>\n",
       "      <td>45.0</td>\n",
       "      <td>Home</td>\n",
       "      <td>25.0</td>\n",
       "      <td>45.0</td>\n",
       "    </tr>\n",
       "    <tr>\n",
       "      <th>3</th>\n",
       "      <td>F</td>\n",
       "      <td>Boise</td>\n",
       "      <td>50.0</td>\n",
       "      <td>Nokia</td>\n",
       "      <td>100.0</td>\n",
       "      <td>Home</td>\n",
       "      <td>50.0</td>\n",
       "      <td>100.0</td>\n",
       "    </tr>\n",
       "    <tr>\n",
       "      <th>4</th>\n",
       "      <td>F</td>\n",
       "      <td>Boise</td>\n",
       "      <td>19.0</td>\n",
       "      <td>Nokia</td>\n",
       "      <td>100.0</td>\n",
       "      <td>Home</td>\n",
       "      <td>25.0</td>\n",
       "      <td>140.0</td>\n",
       "    </tr>\n",
       "  </tbody>\n",
       "</table>\n",
       "</div>"
      ],
      "text/plain": [
       "  Gender Address-City   Age      Make  Price Home/Business  \\\n",
       "0      F        Boise  35.0     Nokia  100.0          Home   \n",
       "1      F        Boise  46.0     Nokia  100.0      Business   \n",
       "2      F     Meridian  31.0  Ericsson   45.0          Home   \n",
       "3      F        Boise  50.0     Nokia  100.0          Home   \n",
       "4      F        Boise  19.0     Nokia  100.0          Home   \n",
       "\n",
       "   Monthly plan price  Total $'s spent  \n",
       "0                25.0            140.0  \n",
       "1               100.0            130.0  \n",
       "2                25.0             45.0  \n",
       "3                50.0            100.0  \n",
       "4                25.0            140.0  "
      ]
     },
     "execution_count": 5,
     "metadata": {},
     "output_type": "execute_result"
    }
   ],
   "source": [
    "CellPhone\n",
    "CellPhone.head()"
   ]
  },
  {
   "cell_type": "code",
   "execution_count": 4,
   "id": "b0f8d141",
   "metadata": {},
   "outputs": [
    {
     "data": {
      "text/html": [
       "<div>\n",
       "<style scoped>\n",
       "    .dataframe tbody tr th:only-of-type {\n",
       "        vertical-align: middle;\n",
       "    }\n",
       "\n",
       "    .dataframe tbody tr th {\n",
       "        vertical-align: top;\n",
       "    }\n",
       "\n",
       "    .dataframe thead th {\n",
       "        text-align: right;\n",
       "    }\n",
       "</style>\n",
       "<table border=\"1\" class=\"dataframe\">\n",
       "  <thead>\n",
       "    <tr style=\"text-align: right;\">\n",
       "      <th></th>\n",
       "      <th>count</th>\n",
       "      <th>mean</th>\n",
       "      <th>std</th>\n",
       "      <th>min</th>\n",
       "      <th>25%</th>\n",
       "      <th>50%</th>\n",
       "      <th>75%</th>\n",
       "      <th>max</th>\n",
       "    </tr>\n",
       "  </thead>\n",
       "  <tbody>\n",
       "    <tr>\n",
       "      <th>Age</th>\n",
       "      <td>50.0</td>\n",
       "      <td>38.52</td>\n",
       "      <td>12.996452</td>\n",
       "      <td>19.0</td>\n",
       "      <td>29.5</td>\n",
       "      <td>35.5</td>\n",
       "      <td>43.75</td>\n",
       "      <td>74.0</td>\n",
       "    </tr>\n",
       "    <tr>\n",
       "      <th>Price</th>\n",
       "      <td>50.0</td>\n",
       "      <td>109.40</td>\n",
       "      <td>57.761296</td>\n",
       "      <td>45.0</td>\n",
       "      <td>60.0</td>\n",
       "      <td>100.0</td>\n",
       "      <td>122.50</td>\n",
       "      <td>250.0</td>\n",
       "    </tr>\n",
       "    <tr>\n",
       "      <th>Monthly plan price</th>\n",
       "      <td>50.0</td>\n",
       "      <td>43.30</td>\n",
       "      <td>29.633992</td>\n",
       "      <td>20.0</td>\n",
       "      <td>25.0</td>\n",
       "      <td>25.0</td>\n",
       "      <td>50.00</td>\n",
       "      <td>150.0</td>\n",
       "    </tr>\n",
       "    <tr>\n",
       "      <th>Total $'s spent</th>\n",
       "      <td>51.0</td>\n",
       "      <td>135.28</td>\n",
       "      <td>63.240190</td>\n",
       "      <td>45.0</td>\n",
       "      <td>95.0</td>\n",
       "      <td>130.0</td>\n",
       "      <td>155.00</td>\n",
       "      <td>280.0</td>\n",
       "    </tr>\n",
       "  </tbody>\n",
       "</table>\n",
       "</div>"
      ],
      "text/plain": [
       "                    count    mean        std   min   25%    50%     75%    max\n",
       "Age                  50.0   38.52  12.996452  19.0  29.5   35.5   43.75   74.0\n",
       "Price                50.0  109.40  57.761296  45.0  60.0  100.0  122.50  250.0\n",
       "Monthly plan price   50.0   43.30  29.633992  20.0  25.0   25.0   50.00  150.0\n",
       "Total $'s spent      51.0  135.28  63.240190  45.0  95.0  130.0  155.00  280.0"
      ]
     },
     "execution_count": 4,
     "metadata": {},
     "output_type": "execute_result"
    }
   ],
   "source": [
    "CellPhone.describe().T"
   ]
  },
  {
   "cell_type": "code",
   "execution_count": 6,
   "id": "1c9d8108",
   "metadata": {},
   "outputs": [
    {
     "data": {
      "text/plain": [
       "Gender\n",
       "F    20\n",
       "M    30\n",
       "Name: Gender, dtype: int64"
      ]
     },
     "execution_count": 6,
     "metadata": {},
     "output_type": "execute_result"
    }
   ],
   "source": [
    "CellPhone.groupby('Gender')['Gender'].count()"
   ]
  },
  {
   "cell_type": "code",
   "execution_count": 10,
   "id": "7df06557",
   "metadata": {},
   "outputs": [
    {
     "name": "stdout",
     "output_type": "stream",
     "text": [
      "HYPOTHESIS STATEMENT\n",
      "H_NULL: The proportion of female registered cell phone is = 80% (claim)\n",
      "H_ALT:The proportion of female registered cell phone is ≠ 80%\n",
      "\n",
      "Significance level, α=0.05 \n",
      "\n",
      "P Value: 0.000\n",
      "\n"
     ]
    }
   ],
   "source": [
    "#two tail test , non-parametric , proportion nominal data (binomial test)\n",
    "print('HYPOTHESIS STATEMENT')\n",
    "print('H_NULL: The proportion of female registered cell phone is = 80% (claim)')\n",
    "print('H_ALT:The proportion of female registered cell phone is ≠ 80%')\n",
    "cofidence_level=0.95\n",
    "#specify the confidence level \n",
    "alpha=(1-cofidence_level)\n",
    "#calculate alpha (significance level) \n",
    "print()\n",
    "print('Significance level, α=%.2f '%(alpha))\n",
    "from scipy import stats\n",
    "#20: female, p=0.5 refering to proportion 80%\n",
    "pvalue = stats.binom_test(20,n=50,p=0.8,alternative='two-sided')\n",
    "\n",
    "print()\n",
    "print('P Value: %.3f' %pvalue)\n",
    "#default test function is for 2 tail test\n",
    "print()"
   ]
  },
  {
   "cell_type": "code",
   "execution_count": 11,
   "id": "64340d30",
   "metadata": {},
   "outputs": [
    {
     "name": "stdout",
     "output_type": "stream",
     "text": [
      "The null hypothesis is rejected\n",
      "The proportion of female registered cell phone is ≠ 80%\n",
      "\n"
     ]
    }
   ],
   "source": [
    "if pvalue < alpha: \n",
    "    print('The null hypothesis is rejected') \n",
    "    print('The proportion of female registered cell phone is ≠ 80%') \n",
    "else: \n",
    "    print('The null hypothesis is accepted') \n",
    "    print('The proportion of female registered cell phone is = 80% (claim)')\n",
    "\n",
    "print()"
   ]
  },
  {
   "cell_type": "code",
   "execution_count": null,
   "id": "9de40df5",
   "metadata": {},
   "outputs": [],
   "source": []
  }
 ],
 "metadata": {
  "kernelspec": {
   "display_name": "Python 3",
   "language": "python",
   "name": "python3"
  },
  "language_info": {
   "codemirror_mode": {
    "name": "ipython",
    "version": 3
   },
   "file_extension": ".py",
   "mimetype": "text/x-python",
   "name": "python",
   "nbconvert_exporter": "python",
   "pygments_lexer": "ipython3",
   "version": "3.10.5"
  }
 },
 "nbformat": 4,
 "nbformat_minor": 5
}
