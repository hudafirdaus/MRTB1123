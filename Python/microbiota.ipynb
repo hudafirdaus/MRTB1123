{
 "cells": [
  {
   "cell_type": "code",
   "execution_count": 1,
   "id": "5dcbc4f6",
   "metadata": {},
   "outputs": [],
   "source": [
    "import pandas as pd\n",
    "import numpy as np \n",
    "import matplotlib.pyplot as plt\n",
    "import scipy.stats as st"
   ]
  },
  {
   "cell_type": "code",
   "execution_count": 2,
   "id": "8649e9b6",
   "metadata": {},
   "outputs": [
    {
     "data": {
      "text/html": [
       "<div>\n",
       "<style scoped>\n",
       "    .dataframe tbody tr th:only-of-type {\n",
       "        vertical-align: middle;\n",
       "    }\n",
       "\n",
       "    .dataframe tbody tr th {\n",
       "        vertical-align: top;\n",
       "    }\n",
       "\n",
       "    .dataframe thead th {\n",
       "        text-align: right;\n",
       "    }\n",
       "</style>\n",
       "<table border=\"1\" class=\"dataframe\">\n",
       "  <thead>\n",
       "    <tr style=\"text-align: right;\">\n",
       "      <th></th>\n",
       "      <th>BMI</th>\n",
       "      <th>Bacteroidetes</th>\n",
       "      <th>Firmicutes</th>\n",
       "    </tr>\n",
       "  </thead>\n",
       "  <tbody>\n",
       "    <tr>\n",
       "      <th>0</th>\n",
       "      <td>35.0</td>\n",
       "      <td>0.26</td>\n",
       "      <td>3.25</td>\n",
       "    </tr>\n",
       "    <tr>\n",
       "      <th>1</th>\n",
       "      <td>28.6</td>\n",
       "      <td>1.30</td>\n",
       "      <td>3.12</td>\n",
       "    </tr>\n",
       "    <tr>\n",
       "      <th>2</th>\n",
       "      <td>34.2</td>\n",
       "      <td>0.33</td>\n",
       "      <td>2.85</td>\n",
       "    </tr>\n",
       "    <tr>\n",
       "      <th>3</th>\n",
       "      <td>35.0</td>\n",
       "      <td>0.38</td>\n",
       "      <td>3.20</td>\n",
       "    </tr>\n",
       "    <tr>\n",
       "      <th>4</th>\n",
       "      <td>30.0</td>\n",
       "      <td>0.45</td>\n",
       "      <td>3.05</td>\n",
       "    </tr>\n",
       "  </tbody>\n",
       "</table>\n",
       "</div>"
      ],
      "text/plain": [
       "    BMI  Bacteroidetes  Firmicutes\n",
       "0  35.0           0.26        3.25\n",
       "1  28.6           1.30        3.12\n",
       "2  34.2           0.33        2.85\n",
       "3  35.0           0.38        3.20\n",
       "4  30.0           0.45        3.05"
      ]
     },
     "execution_count": 2,
     "metadata": {},
     "output_type": "execute_result"
    }
   ],
   "source": [
    "Microbiota=pd.read_excel('E:\\Python\\Data\\gut microbiota.xlsx')\n",
    "Microbiota.head()"
   ]
  },
  {
   "cell_type": "code",
   "execution_count": 9,
   "id": "ba914248",
   "metadata": {},
   "outputs": [
    {
     "data": {
      "text/plain": [
       "<AxesSubplot:xlabel='Firmicutes', ylabel='BMI'>"
      ]
     },
     "execution_count": 9,
     "metadata": {},
     "output_type": "execute_result"
    },
    {
     "data": {
      "image/png": "[encoded data removed]",
      "text/plain": [
       "<Figure size 1440x360 with 1 Axes>"
      ]
     },
     "metadata": {
      "needs_background": "light"
     },
     "output_type": "display_data"
    }
   ],
   "source": [
    "Microbiota.plot.scatter(y='BMI',x='Firmicutes',figsize=[20,5])"
   ]
  },
  {
   "cell_type": "code",
   "execution_count": 5,
   "id": "dbf0625c",
   "metadata": {},
   "outputs": [
    {
     "data": {
      "text/html": [
       "<style type=\"text/css\">\n",
       "#T_fedd4_row0_col0, #T_fedd4_row1_col1, #T_fedd4_row2_col2 {\n",
       "  background-color: #b40426;\n",
       "  color: #f1f1f1;\n",
       "}\n",
       "#T_fedd4_row0_col1, #T_fedd4_row1_col0, #T_fedd4_row1_col2 {\n",
       "  background-color: #3b4cc0;\n",
       "  color: #f1f1f1;\n",
       "}\n",
       "#T_fedd4_row0_col2, #T_fedd4_row2_col0 {\n",
       "  background-color: #cd423b;\n",
       "  color: #f1f1f1;\n",
       "}\n",
       "#T_fedd4_row2_col1 {\n",
       "  background-color: #3c4ec2;\n",
       "  color: #f1f1f1;\n",
       "}\n",
       "</style>\n",
       "<table id=\"T_fedd4_\">\n",
       "  <thead>\n",
       "    <tr>\n",
       "      <th class=\"blank level0\" >&nbsp;</th>\n",
       "      <th class=\"col_heading level0 col0\" >BMI</th>\n",
       "      <th class=\"col_heading level0 col1\" >Bacteroidetes</th>\n",
       "      <th class=\"col_heading level0 col2\" >Firmicutes</th>\n",
       "    </tr>\n",
       "  </thead>\n",
       "  <tbody>\n",
       "    <tr>\n",
       "      <th id=\"T_fedd4_level0_row0\" class=\"row_heading level0 row0\" >BMI</th>\n",
       "      <td id=\"T_fedd4_row0_col0\" class=\"data row0 col0\" >1.000000</td>\n",
       "      <td id=\"T_fedd4_row0_col1\" class=\"data row0 col1\" >-0.859268</td>\n",
       "      <td id=\"T_fedd4_row0_col2\" class=\"data row0 col2\" >0.867884</td>\n",
       "    </tr>\n",
       "    <tr>\n",
       "      <th id=\"T_fedd4_level0_row1\" class=\"row_heading level0 row1\" >Bacteroidetes</th>\n",
       "      <td id=\"T_fedd4_row1_col0\" class=\"data row1 col0\" >-0.859268</td>\n",
       "      <td id=\"T_fedd4_row1_col1\" class=\"data row1 col1\" >1.000000</td>\n",
       "      <td id=\"T_fedd4_row1_col2\" class=\"data row1 col2\" >-0.850534</td>\n",
       "    </tr>\n",
       "    <tr>\n",
       "      <th id=\"T_fedd4_level0_row2\" class=\"row_heading level0 row2\" >Firmicutes</th>\n",
       "      <td id=\"T_fedd4_row2_col0\" class=\"data row2 col0\" >0.867884</td>\n",
       "      <td id=\"T_fedd4_row2_col1\" class=\"data row2 col1\" >-0.850534</td>\n",
       "      <td id=\"T_fedd4_row2_col2\" class=\"data row2 col2\" >1.000000</td>\n",
       "    </tr>\n",
       "  </tbody>\n",
       "</table>\n"
      ],
      "text/plain": [
       "<pandas.io.formats.style.Styler at 0x1915c62a020>"
      ]
     },
     "execution_count": 5,
     "metadata": {},
     "output_type": "execute_result"
    }
   ],
   "source": [
    "Microbiota.corr(method='pearson').style.background_gradient(cmap='coolwarm')"
   ]
  },
  {
   "cell_type": "code",
   "execution_count": 10,
   "id": "eb4c5d84",
   "metadata": {},
   "outputs": [
    {
     "data": {
      "text/html": [
       "<style type=\"text/css\">\n",
       "#T_ddbff_row0_col0, #T_ddbff_row1_col1, #T_ddbff_row2_col2 {\n",
       "  background-color: #b40426;\n",
       "  color: #f1f1f1;\n",
       "}\n",
       "#T_ddbff_row0_col1 {\n",
       "  background-color: #3f53c6;\n",
       "  color: #f1f1f1;\n",
       "}\n",
       "#T_ddbff_row0_col2, #T_ddbff_row2_col0 {\n",
       "  background-color: #cb3e38;\n",
       "  color: #f1f1f1;\n",
       "}\n",
       "#T_ddbff_row1_col0, #T_ddbff_row1_col2, #T_ddbff_row2_col1 {\n",
       "  background-color: #3b4cc0;\n",
       "  color: #f1f1f1;\n",
       "}\n",
       "</style>\n",
       "<table id=\"T_ddbff_\">\n",
       "  <thead>\n",
       "    <tr>\n",
       "      <th class=\"blank level0\" >&nbsp;</th>\n",
       "      <th class=\"col_heading level0 col0\" >BMI</th>\n",
       "      <th class=\"col_heading level0 col1\" >Bacteroidetes</th>\n",
       "      <th class=\"col_heading level0 col2\" >Firmicutes</th>\n",
       "    </tr>\n",
       "  </thead>\n",
       "  <tbody>\n",
       "    <tr>\n",
       "      <th id=\"T_ddbff_level0_row0\" class=\"row_heading level0 row0\" >BMI</th>\n",
       "      <td id=\"T_ddbff_row0_col0\" class=\"data row0 col0\" >1.000000</td>\n",
       "      <td id=\"T_ddbff_row0_col1\" class=\"data row0 col1\" >-0.830665</td>\n",
       "      <td id=\"T_ddbff_row0_col2\" class=\"data row0 col2\" >0.883550</td>\n",
       "    </tr>\n",
       "    <tr>\n",
       "      <th id=\"T_ddbff_level0_row1\" class=\"row_heading level0 row1\" >Bacteroidetes</th>\n",
       "      <td id=\"T_ddbff_row1_col0\" class=\"data row1 col0\" >-0.830665</td>\n",
       "      <td id=\"T_ddbff_row1_col1\" class=\"data row1 col1\" >1.000000</td>\n",
       "      <td id=\"T_ddbff_row1_col2\" class=\"data row1 col2\" >-0.862312</td>\n",
       "    </tr>\n",
       "    <tr>\n",
       "      <th id=\"T_ddbff_level0_row2\" class=\"row_heading level0 row2\" >Firmicutes</th>\n",
       "      <td id=\"T_ddbff_row2_col0\" class=\"data row2 col0\" >0.883550</td>\n",
       "      <td id=\"T_ddbff_row2_col1\" class=\"data row2 col1\" >-0.862312</td>\n",
       "      <td id=\"T_ddbff_row2_col2\" class=\"data row2 col2\" >1.000000</td>\n",
       "    </tr>\n",
       "  </tbody>\n",
       "</table>\n"
      ],
      "text/plain": [
       "<pandas.io.formats.style.Styler at 0x1917fd667d0>"
      ]
     },
     "execution_count": 10,
     "metadata": {},
     "output_type": "execute_result"
    }
   ],
   "source": [
    "Microbiota.corr(method='spearman').style.background_gradient(cmap='coolwarm')"
   ]
  },
  {
   "cell_type": "code",
   "execution_count": 7,
   "id": "d29ca515",
   "metadata": {},
   "outputs": [
    {
     "name": "stdout",
     "output_type": "stream",
     "text": [
      "Pearson Correlation=-0.859, p-value=0.000\n"
     ]
    }
   ],
   "source": [
    "#producing pearson correlation\n",
    "from scipy.stats import pearsonr\n",
    "data1= Microbiota['BMI']\n",
    "data2= Microbiota['Bacteroidetes']\n",
    "stat,p=pearsonr(data1,data2)\n",
    "print('Pearson Correlation=%.3f, p-value=%.3f'%(stat,p))"
   ]
  },
  {
   "cell_type": "code",
   "execution_count": 8,
   "id": "4ae0d64c",
   "metadata": {},
   "outputs": [
    {
     "name": "stdout",
     "output_type": "stream",
     "text": [
      "H0 - ρ = 0 (There are no correlation between variables)\n",
      "H1 - ρ ≠ 0 (There exists correlation between variables)\n",
      "\n",
      "Significance level, α:  0.05\n",
      "\n",
      "Using significance level of 0.05 and p-value = 1.404617037994062e-15 .H0 is rejected.\n",
      "There EXISTS correlation between variables\n"
     ]
    }
   ],
   "source": [
    "#Conducting hypothesis test to test either exists relationship\n",
    "print('H0 - ρ = 0 (There are no correlation between variables)')\n",
    "print('H1 - ρ ≠ 0 (There exists correlation between variables)')\n",
    "cofidence_level=0.95\n",
    "#calculate alpha (significance level)\n",
    "alpha=round((1-cofidence_level),2)\n",
    "print()\n",
    "print('Significance level, α: ',alpha)\n",
    "print()\n",
    "if p< alpha:\n",
    "    print('Using significance level of',alpha, 'and p-value =', p,'.H0 is rejected.')\n",
    "    print('There EXISTS correlation between variables')\n",
    "else:\n",
    "    print('Using significance level of',alpha,'and p-value =', p,'.H0 is accepted.')\n",
    "    print('There are NO correlation between variables')"
   ]
  },
  {
   "cell_type": "code",
   "execution_count": null,
   "id": "6f0ed67c",
   "metadata": {},
   "outputs": [],
   "source": []
  }
 ],
 "metadata": {
  "kernelspec": {
   "display_name": "Python 3",
   "language": "python",
   "name": "python3"
  },
  "language_info": {
   "codemirror_mode": {
    "name": "ipython",
    "version": 3
   },
   "file_extension": ".py",
   "mimetype": "text/x-python",
   "name": "python",
   "nbconvert_exporter": "python",
   "pygments_lexer": "ipython3",
   "version": "3.10.5"
  }
 },
 "nbformat": 4,
 "nbformat_minor": 5
}
